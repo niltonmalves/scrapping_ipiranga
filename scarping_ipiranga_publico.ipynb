{
  "nbformat": 4,
  "nbformat_minor": 0,
  "metadata": {
    "colab": {
      "name": "scarping_ipiranga_2.ipynb",
      "provenance": [],
      "collapsed_sections": []
    },
    "kernelspec": {
      "name": "python3",
      "display_name": "Python 3"
    }
  },
  "cells": [
    {
      "cell_type": "code",
      "metadata": {
        "id": "Sfa6e9GpWs_D",
        "colab_type": "code",
        "colab": {}
      },
      "source": [
        ""
      ],
      "execution_count": null,
      "outputs": []
    },
    {
      "cell_type": "code",
      "metadata": {
        "id": "CR6vvDctSnX6",
        "colab_type": "code",
        "colab": {}
      },
      "source": [
        "#pedido de combustivel\n",
        "dataEntrega='05/08/2020'\n",
        "et='5000'\n",
        "ga=''\n",
        "gc=''\n",
        "s10=''\n",
        "s500=''\n"
      ],
      "execution_count": null,
      "outputs": []
    },
    {
      "cell_type": "code",
      "metadata": {
        "id": "SSPcw3Ys9t-b",
        "colab_type": "code",
        "colab": {}
      },
      "source": [
        "import time\n",
        "ano=time.localtime().tm_year\n",
        "mes=time.localtime().tm_mon\n",
        "dia=time.localtime().tm_mday\n",
        "\n",
        "diaEnt=dataEntrega[0:2]\n",
        "mesEnt=dataEntrega[3:5]\n",
        "anoEnt=dataEntrega[6:10]\n"
      ],
      "execution_count": null,
      "outputs": []
    },
    {
      "cell_type": "code",
      "metadata": {
        "id": "L8PASWRVvklW",
        "colab_type": "code",
        "colab": {
          "base_uri": "https://localhost:8080/",
          "height": 1000
        },
        "outputId": "3f0aee8b-3430-4b3a-a0d6-46e80995671a"
      },
      "source": [
        "!pip install selenium\n",
        "!apt-get update # to update ubuntu to correctly run apt install\n",
        "!apt install chromium-chromedriver\n",
        "#!cp /usr/lib/chromium-browser/chromedriver /usr/bin"
      ],
      "execution_count": null,
      "outputs": [
        {
          "output_type": "stream",
          "text": [
            "Collecting selenium\n",
            "\u001b[?25l  Downloading https://files.pythonhosted.org/packages/80/d6/4294f0b4bce4de0abf13e17190289f9d0613b0a44e5dd6a7f5ca98459853/selenium-3.141.0-py2.py3-none-any.whl (904kB)\n",
            "\r\u001b[K     |▍                               | 10kB 17.4MB/s eta 0:00:01\r\u001b[K     |▊                               | 20kB 6.0MB/s eta 0:00:01\r\u001b[K     |█                               | 30kB 6.4MB/s eta 0:00:01\r\u001b[K     |█▌                              | 40kB 6.9MB/s eta 0:00:01\r\u001b[K     |█▉                              | 51kB 6.4MB/s eta 0:00:01\r\u001b[K     |██▏                             | 61kB 6.6MB/s eta 0:00:01\r\u001b[K     |██▌                             | 71kB 7.3MB/s eta 0:00:01\r\u001b[K     |███                             | 81kB 7.7MB/s eta 0:00:01\r\u001b[K     |███▎                            | 92kB 8.1MB/s eta 0:00:01\r\u001b[K     |███▋                            | 102kB 8.1MB/s eta 0:00:01\r\u001b[K     |████                            | 112kB 8.1MB/s eta 0:00:01\r\u001b[K     |████▍                           | 122kB 8.1MB/s eta 0:00:01\r\u001b[K     |████▊                           | 133kB 8.1MB/s eta 0:00:01\r\u001b[K     |█████                           | 143kB 8.1MB/s eta 0:00:01\r\u001b[K     |█████▍                          | 153kB 8.1MB/s eta 0:00:01\r\u001b[K     |█████▉                          | 163kB 8.1MB/s eta 0:00:01\r\u001b[K     |██████▏                         | 174kB 8.1MB/s eta 0:00:01\r\u001b[K     |██████▌                         | 184kB 8.1MB/s eta 0:00:01\r\u001b[K     |██████▉                         | 194kB 8.1MB/s eta 0:00:01\r\u001b[K     |███████▎                        | 204kB 8.1MB/s eta 0:00:01\r\u001b[K     |███████▋                        | 215kB 8.1MB/s eta 0:00:01\r\u001b[K     |████████                        | 225kB 8.1MB/s eta 0:00:01\r\u001b[K     |████████▎                       | 235kB 8.1MB/s eta 0:00:01\r\u001b[K     |████████▊                       | 245kB 8.1MB/s eta 0:00:01\r\u001b[K     |█████████                       | 256kB 8.1MB/s eta 0:00:01\r\u001b[K     |█████████▍                      | 266kB 8.1MB/s eta 0:00:01\r\u001b[K     |█████████▉                      | 276kB 8.1MB/s eta 0:00:01\r\u001b[K     |██████████▏                     | 286kB 8.1MB/s eta 0:00:01\r\u001b[K     |██████████▌                     | 296kB 8.1MB/s eta 0:00:01\r\u001b[K     |██████████▉                     | 307kB 8.1MB/s eta 0:00:01\r\u001b[K     |███████████▎                    | 317kB 8.1MB/s eta 0:00:01\r\u001b[K     |███████████▋                    | 327kB 8.1MB/s eta 0:00:01\r\u001b[K     |████████████                    | 337kB 8.1MB/s eta 0:00:01\r\u001b[K     |████████████▎                   | 348kB 8.1MB/s eta 0:00:01\r\u001b[K     |████████████▊                   | 358kB 8.1MB/s eta 0:00:01\r\u001b[K     |█████████████                   | 368kB 8.1MB/s eta 0:00:01\r\u001b[K     |█████████████▍                  | 378kB 8.1MB/s eta 0:00:01\r\u001b[K     |█████████████▊                  | 389kB 8.1MB/s eta 0:00:01\r\u001b[K     |██████████████▏                 | 399kB 8.1MB/s eta 0:00:01\r\u001b[K     |██████████████▌                 | 409kB 8.1MB/s eta 0:00:01\r\u001b[K     |██████████████▉                 | 419kB 8.1MB/s eta 0:00:01\r\u001b[K     |███████████████▏                | 430kB 8.1MB/s eta 0:00:01\r\u001b[K     |███████████████▋                | 440kB 8.1MB/s eta 0:00:01\r\u001b[K     |████████████████                | 450kB 8.1MB/s eta 0:00:01\r\u001b[K     |████████████████▎               | 460kB 8.1MB/s eta 0:00:01\r\u001b[K     |████████████████▋               | 471kB 8.1MB/s eta 0:00:01\r\u001b[K     |█████████████████               | 481kB 8.1MB/s eta 0:00:01\r\u001b[K     |█████████████████▍              | 491kB 8.1MB/s eta 0:00:01\r\u001b[K     |█████████████████▊              | 501kB 8.1MB/s eta 0:00:01\r\u001b[K     |██████████████████▏             | 512kB 8.1MB/s eta 0:00:01\r\u001b[K     |██████████████████▌             | 522kB 8.1MB/s eta 0:00:01\r\u001b[K     |██████████████████▉             | 532kB 8.1MB/s eta 0:00:01\r\u001b[K     |███████████████████▏            | 542kB 8.1MB/s eta 0:00:01\r\u001b[K     |███████████████████▋            | 552kB 8.1MB/s eta 0:00:01\r\u001b[K     |████████████████████            | 563kB 8.1MB/s eta 0:00:01\r\u001b[K     |████████████████████▎           | 573kB 8.1MB/s eta 0:00:01\r\u001b[K     |████████████████████▋           | 583kB 8.1MB/s eta 0:00:01\r\u001b[K     |█████████████████████           | 593kB 8.1MB/s eta 0:00:01\r\u001b[K     |█████████████████████▍          | 604kB 8.1MB/s eta 0:00:01\r\u001b[K     |█████████████████████▊          | 614kB 8.1MB/s eta 0:00:01\r\u001b[K     |██████████████████████          | 624kB 8.1MB/s eta 0:00:01\r\u001b[K     |██████████████████████▌         | 634kB 8.1MB/s eta 0:00:01\r\u001b[K     |██████████████████████▉         | 645kB 8.1MB/s eta 0:00:01\r\u001b[K     |███████████████████████▏        | 655kB 8.1MB/s eta 0:00:01\r\u001b[K     |███████████████████████▌        | 665kB 8.1MB/s eta 0:00:01\r\u001b[K     |████████████████████████        | 675kB 8.1MB/s eta 0:00:01\r\u001b[K     |████████████████████████▎       | 686kB 8.1MB/s eta 0:00:01\r\u001b[K     |████████████████████████▋       | 696kB 8.1MB/s eta 0:00:01\r\u001b[K     |█████████████████████████       | 706kB 8.1MB/s eta 0:00:01\r\u001b[K     |█████████████████████████▍      | 716kB 8.1MB/s eta 0:00:01\r\u001b[K     |█████████████████████████▊      | 727kB 8.1MB/s eta 0:00:01\r\u001b[K     |██████████████████████████      | 737kB 8.1MB/s eta 0:00:01\r\u001b[K     |██████████████████████████▍     | 747kB 8.1MB/s eta 0:00:01\r\u001b[K     |██████████████████████████▉     | 757kB 8.1MB/s eta 0:00:01\r\u001b[K     |███████████████████████████▏    | 768kB 8.1MB/s eta 0:00:01\r\u001b[K     |███████████████████████████▌    | 778kB 8.1MB/s eta 0:00:01\r\u001b[K     |████████████████████████████    | 788kB 8.1MB/s eta 0:00:01\r\u001b[K     |████████████████████████████▎   | 798kB 8.1MB/s eta 0:00:01\r\u001b[K     |████████████████████████████▋   | 808kB 8.1MB/s eta 0:00:01\r\u001b[K     |█████████████████████████████   | 819kB 8.1MB/s eta 0:00:01\r\u001b[K     |█████████████████████████████▍  | 829kB 8.1MB/s eta 0:00:01\r\u001b[K     |█████████████████████████████▊  | 839kB 8.1MB/s eta 0:00:01\r\u001b[K     |██████████████████████████████  | 849kB 8.1MB/s eta 0:00:01\r\u001b[K     |██████████████████████████████▍ | 860kB 8.1MB/s eta 0:00:01\r\u001b[K     |██████████████████████████████▉ | 870kB 8.1MB/s eta 0:00:01\r\u001b[K     |███████████████████████████████▏| 880kB 8.1MB/s eta 0:00:01\r\u001b[K     |███████████████████████████████▌| 890kB 8.1MB/s eta 0:00:01\r\u001b[K     |███████████████████████████████▉| 901kB 8.1MB/s eta 0:00:01\r\u001b[K     |████████████████████████████████| 911kB 8.1MB/s \n",
            "\u001b[?25hRequirement already satisfied: urllib3 in /usr/local/lib/python3.6/dist-packages (from selenium) (1.24.3)\n",
            "Installing collected packages: selenium\n",
            "Successfully installed selenium-3.141.0\n",
            "Hit:1 http://ppa.launchpad.net/graphics-drivers/ppa/ubuntu bionic InRelease\n",
            "Hit:2 http://archive.ubuntu.com/ubuntu bionic InRelease\n",
            "Get:3 http://archive.ubuntu.com/ubuntu bionic-updates InRelease [88.7 kB]\n",
            "Get:4 http://ppa.launchpad.net/marutter/c2d4u3.5/ubuntu bionic InRelease [15.4 kB]\n",
            "Get:5 https://cloud.r-project.org/bin/linux/ubuntu bionic-cran35/ InRelease [3,626 B]\n",
            "Get:6 http://archive.ubuntu.com/ubuntu bionic-backports InRelease [74.6 kB]\n",
            "Get:7 http://security.ubuntu.com/ubuntu bionic-security InRelease [88.7 kB]\n",
            "Ign:8 https://developer.download.nvidia.com/compute/cuda/repos/ubuntu1804/x86_64  InRelease\n",
            "Ign:9 https://developer.download.nvidia.com/compute/machine-learning/repos/ubuntu1804/x86_64  InRelease\n",
            "Hit:10 https://developer.download.nvidia.com/compute/cuda/repos/ubuntu1804/x86_64  Release\n",
            "Hit:11 https://developer.download.nvidia.com/compute/machine-learning/repos/ubuntu1804/x86_64  Release\n",
            "Get:12 http://ppa.launchpad.net/marutter/c2d4u3.5/ubuntu bionic/main Sources [1,853 kB]\n",
            "Get:13 http://ppa.launchpad.net/marutter/c2d4u3.5/ubuntu bionic/main amd64 Packages [895 kB]\n",
            "Get:14 http://archive.ubuntu.com/ubuntu bionic-updates/universe amd64 Packages [1,413 kB]\n",
            "Get:15 http://archive.ubuntu.com/ubuntu bionic-updates/restricted amd64 Packages [116 kB]\n",
            "Get:16 http://archive.ubuntu.com/ubuntu bionic-updates/main amd64 Packages [1,334 kB]\n",
            "Get:17 http://archive.ubuntu.com/ubuntu bionic-updates/multiverse amd64 Packages [27.1 kB]\n",
            "Get:20 http://security.ubuntu.com/ubuntu bionic-security/main amd64 Packages [1,033 kB]\n",
            "Get:21 http://security.ubuntu.com/ubuntu bionic-security/universe amd64 Packages [880 kB]\n",
            "Fetched 7,823 kB in 3s (2,939 kB/s)\n",
            "Reading package lists... Done\n",
            "Reading package lists... Done\n",
            "Building dependency tree       \n",
            "Reading state information... Done\n",
            "The following package was automatically installed and is no longer required:\n",
            "  libnvidia-common-440\n",
            "Use 'apt autoremove' to remove it.\n",
            "The following additional packages will be installed:\n",
            "  chromium-browser chromium-browser-l10n chromium-codecs-ffmpeg-extra\n",
            "Suggested packages:\n",
            "  webaccounts-chromium-extension unity-chromium-extension adobe-flashplugin\n",
            "The following NEW packages will be installed:\n",
            "  chromium-browser chromium-browser-l10n chromium-chromedriver\n",
            "  chromium-codecs-ffmpeg-extra\n",
            "0 upgraded, 4 newly installed, 0 to remove and 38 not upgraded.\n",
            "Need to get 75.5 MB of archives.\n",
            "After this operation, 256 MB of additional disk space will be used.\n",
            "Get:1 http://archive.ubuntu.com/ubuntu bionic-updates/universe amd64 chromium-codecs-ffmpeg-extra amd64 83.0.4103.61-0ubuntu0.18.04.1 [1,119 kB]\n",
            "Get:2 http://archive.ubuntu.com/ubuntu bionic-updates/universe amd64 chromium-browser amd64 83.0.4103.61-0ubuntu0.18.04.1 [66.7 MB]\n",
            "Get:3 http://archive.ubuntu.com/ubuntu bionic-updates/universe amd64 chromium-browser-l10n all 83.0.4103.61-0ubuntu0.18.04.1 [3,378 kB]\n",
            "Get:4 http://archive.ubuntu.com/ubuntu bionic-updates/universe amd64 chromium-chromedriver amd64 83.0.4103.61-0ubuntu0.18.04.1 [4,294 kB]\n",
            "Fetched 75.5 MB in 1s (68.7 MB/s)\n",
            "Selecting previously unselected package chromium-codecs-ffmpeg-extra.\n",
            "(Reading database ... 144487 files and directories currently installed.)\n",
            "Preparing to unpack .../chromium-codecs-ffmpeg-extra_83.0.4103.61-0ubuntu0.18.04.1_amd64.deb ...\n",
            "Unpacking chromium-codecs-ffmpeg-extra (83.0.4103.61-0ubuntu0.18.04.1) ...\n",
            "Selecting previously unselected package chromium-browser.\n",
            "Preparing to unpack .../chromium-browser_83.0.4103.61-0ubuntu0.18.04.1_amd64.deb ...\n",
            "Unpacking chromium-browser (83.0.4103.61-0ubuntu0.18.04.1) ...\n",
            "Selecting previously unselected package chromium-browser-l10n.\n",
            "Preparing to unpack .../chromium-browser-l10n_83.0.4103.61-0ubuntu0.18.04.1_all.deb ...\n",
            "Unpacking chromium-browser-l10n (83.0.4103.61-0ubuntu0.18.04.1) ...\n",
            "Selecting previously unselected package chromium-chromedriver.\n",
            "Preparing to unpack .../chromium-chromedriver_83.0.4103.61-0ubuntu0.18.04.1_amd64.deb ...\n",
            "Unpacking chromium-chromedriver (83.0.4103.61-0ubuntu0.18.04.1) ...\n",
            "Setting up chromium-codecs-ffmpeg-extra (83.0.4103.61-0ubuntu0.18.04.1) ...\n",
            "Setting up chromium-browser (83.0.4103.61-0ubuntu0.18.04.1) ...\n",
            "update-alternatives: using /usr/bin/chromium-browser to provide /usr/bin/x-www-browser (x-www-browser) in auto mode\n",
            "update-alternatives: using /usr/bin/chromium-browser to provide /usr/bin/gnome-www-browser (gnome-www-browser) in auto mode\n",
            "Setting up chromium-chromedriver (83.0.4103.61-0ubuntu0.18.04.1) ...\n",
            "Setting up chromium-browser-l10n (83.0.4103.61-0ubuntu0.18.04.1) ...\n",
            "Processing triggers for hicolor-icon-theme (0.17-2) ...\n",
            "Processing triggers for mime-support (3.60ubuntu1) ...\n",
            "Processing triggers for man-db (2.8.3-2ubuntu0.1) ...\n"
          ],
          "name": "stdout"
        }
      ]
    },
    {
      "cell_type": "code",
      "metadata": {
        "id": "x7FD0I7-vnPB",
        "colab_type": "code",
        "colab": {
          "base_uri": "https://localhost:8080/",
          "height": 52
        },
        "outputId": "81eeb354-6f91-4c6d-a1ff-ef1ca0133c44"
      },
      "source": [
        "import sys\n",
        "sys.path.insert(0,'/usr/lib/chromium-browser/chromedriver')\n",
        "from selenium import webdriver\n",
        "from selenium.webdriver.support.select import Select, By\n",
        "chrome_options = webdriver.ChromeOptions()\n",
        "chrome_options.add_argument('--headless')\n",
        "chrome_options.add_argument('--no-sandbox')\n",
        "chrome_options.add_argument('--disable-dev-shm-usage')\n",
        "chrome_options.add_argument('--start-maximized')\n",
        "# chrome_options.add_argument('user-agent=Mozilla/5.0 (Windows NT 6.3; WOW64) AppleWebKit/537.36 (KHTML, like Gecko) Chrome/59.0.3071.115 Safari/537.36')\n",
        "chrome_options.add_argument('--ignore-certificate-errors')\n",
        "wd = webdriver.Chrome('chromedriver',chrome_options=chrome_options, service_args=['--verbose', '--log-path=/tmp/chromedriver.log'])"
      ],
      "execution_count": null,
      "outputs": [
        {
          "output_type": "stream",
          "text": [
            "/usr/local/lib/python3.6/dist-packages/ipykernel_launcher.py:12: DeprecationWarning: use options instead of chrome_options\n",
            "  if sys.path[0] == '':\n"
          ],
          "name": "stderr"
        }
      ]
    },
    {
      "cell_type": "code",
      "metadata": {
        "id": "t8DCiE1wvu4B",
        "colab_type": "code",
        "colab": {}
      },
      "source": [
        "from bs4 import BeautifulSoup\n",
        "from selenium.webdriver.common.keys import Keys\n",
        "import time"
      ],
      "execution_count": null,
      "outputs": []
    },
    {
      "cell_type": "code",
      "metadata": {
        "id": "jSTB3Lvlvpg4",
        "colab_type": "code",
        "colab": {}
      },
      "source": [
        "wd.delete_all_cookies()"
      ],
      "execution_count": null,
      "outputs": []
    },
    {
      "cell_type": "code",
      "metadata": {
        "id": "m9XT9aImvrVA",
        "colab_type": "code",
        "colab": {}
      },
      "source": [
        "wd.get(\"https://www.redeipiranga.com.br/wps/portal/redeipiranga/login/!ut/p/a1/04_Sj9CPykssy0xPLMnMz0vMAfGjzOKNAiwtDI1NDL0sgk1MDBzdw5zMg3y8DA1CTIAKIoEKDHAARwNC-sP1o_AqCTSHKsBjRUFuhEGmo6IiALSd4v0!/dl5/d5/L2dBISEvZ0FBIS9nQSEh/\")"
      ],
      "execution_count": null,
      "outputs": []
    },
    {
      "cell_type": "code",
      "metadata": {
        "id": "rfOjgd-tvw0q",
        "colab_type": "code",
        "colab": {}
      },
      "source": [
        "wd.set_window_size(1680,1680)"
      ],
      "execution_count": null,
      "outputs": []
    },
    {
      "cell_type": "code",
      "metadata": {
        "id": "7sJ1usByvz_4",
        "colab_type": "code",
        "colab": {}
      },
      "source": [
        "\n",
        "\n",
        "username=wd.find_element_by_id(\"viewns_Z7_2P981341J8S440AGVB7RLJ1034_:ns_Z7_2P981341J8S440AGVB7RLJ1034_j_id1359681328_510b177e:login\")\n",
        "username.clear()\n",
        "username.send_keys('xxxx')\n",
        "password = wd.find_element_by_name(\"viewns_Z7_2P981341J8S440AGVB7RLJ1034_:ns_Z7_2P981341J8S440AGVB7RLJ1034_j_id1359681328_510b177e:senha\")\n",
        "password.clear()\n",
        "password.send_keys('xxxxx')"
      ],
      "execution_count": null,
      "outputs": []
    },
    {
      "cell_type": "code",
      "metadata": {
        "id": "BaB8qqJzv6sD",
        "colab_type": "code",
        "colab": {}
      },
      "source": [
        "#clicar no Enter, para confirmar o login e senha\n",
        "wd.find_element_by_name(\"viewns_Z7_2P981341J8S440AGVB7RLJ1034_:ns_Z7_2P981341J8S440AGVB7RLJ1034_j_id1359681328_510b177e:ns_Z7_2P981341J8S440AGVB7RLJ1034_j_id1359681328_510b17ac\").click()\n"
      ],
      "execution_count": null,
      "outputs": []
    },
    {
      "cell_type": "code",
      "metadata": {
        "id": "Te8toGa6v9tz",
        "colab_type": "code",
        "colab": {}
      },
      "source": [
        "wd.get('https://www.redeipiranga.com.br/wps/myportal/redeipiranga/meuposto/medidasespeciaisetransitorias')\n"
      ],
      "execution_count": null,
      "outputs": []
    },
    {
      "cell_type": "code",
      "metadata": {
        "id": "GfytRNWTwB0Q",
        "colab_type": "code",
        "colab": {}
      },
      "source": [
        "\n",
        "#central de compras\n",
        "wd.get('https://www.redeipiranga.com.br/wps/myportal/redeipiranga/compraseservicos/centraldecompras/!ut/p/a1/04_Sj9CPykssy0xPLMnMz0vMAfGjzOItjDw8DSycDbwNPAzdDAJdQ518Hb0CvSzCDIEKIoEKjAIsLQyNTQy9LIJNTAwc3cOczIN8vAwNXE0o0x9oTpx-AxzA0YCQ_nD9KLASfD7AqwDkRLACPG4oyA0NjTDI9AQAgr9Ldw!!/dl5/d5/L2dJQSEvUUt3QS80SmlFL1o2XzJQOTgxMzQxSjhTNDQwQUdWQjdSTEoxMDM1/')\n",
        "\n",
        "#clicar em combustivel\n",
        "wd.get('https://www.redeipiranga.com.br/wps/myportal/redeipiranga/compraseservicos/centraldecompras/combustivel/!ut/p/a1/04_Sj9CPykssy0xPLMnMz0vMAfGjzOKNAiwtDI1NDL0sgk1MDBzdw5zMg3y8DA28DIEKIvEocDUB67cw8vA0sHA28DbwMHQzCHQNdfJ19Ar0sggjpD_QHK_9xqZQ_QY4gKMBcfbjUUCU_XgUEAi_cP0ovEpAIYhXASiIwArwhQFeE8zM9AtyQ4EgwiDTM10RAOLIjlY!/dl5/d5/L2dBISEvZ0FBIS9nQSEh/?uri=nm%3Aoid%3AZ6_2P981341J8S440AGVB7RLJ10J1')\n",
        "\n",
        "wd.switch_to.frame(wd.find_element_by_name(\"ns_Z7_2P981341J0TD30A8I8QDFA2006_content-frame\"))"
      ],
      "execution_count": null,
      "outputs": []
    },
    {
      "cell_type": "code",
      "metadata": {
        "id": "qzNOIhpL3AEr",
        "colab_type": "code",
        "colab": {}
      },
      "source": [
        "#inserir Data de Entrega\n",
        "diaEntrega= wd.find_element_by_xpath('//div[@class=\"centdig_selecao_consultasCompras centdig_bordar_bottom\"]')\n",
        "diaEntrega.find_elements_by_xpath('//br')[0].find_elements_by_xpath('//input[@name=\"dataEntrega\"]')[0].send_keys(dataEntrega)\n",
        "diaEntrega.find_elements_by_xpath('//br')[0].find_elements_by_xpath('//input[@name=\"dataEntrega\"]')[0].send_keys(Keys.ENTER)#.send_keys(Keys.ENTER)\n",
        "#wd.save_screenshot('testeInsercaodiaEntrega.png')"
      ],
      "execution_count": null,
      "outputs": []
    },
    {
      "cell_type": "code",
      "metadata": {
        "id": "irP9G0vJ7Qfd",
        "colab_type": "code",
        "colab": {}
      },
      "source": [
        "#Responsavel pela Entrega\n",
        "#ipiranga\n",
        "responsavelEntrega=wd.find_element_by_xpath('//div[@class=\"centdig_selecao_consultasCompras centdig_bordar_bottom\"]')\n",
        "responsavelEntrega.find_elements_by_xpath('//br')[0].find_elements_by_xpath('//label')[2].find_elements_by_xpath('//input[@name=\"responsavelEntrega\"]')[1].click()  #0=> cliente 1=>ipiranga\n",
        "#wd.save_screenshot('testeInsercaoRespEntrega.png')"
      ],
      "execution_count": null,
      "outputs": []
    },
    {
      "cell_type": "code",
      "metadata": {
        "id": "RqYErrk5NmIk",
        "colab_type": "code",
        "colab": {}
      },
      "source": [
        "#base supridora\n",
        "#Base de Caxias\n",
        "# 6515 => Base de Caxias\n",
        "baseSupridora=wd.find_element_by_xpath('//div[@class=\"centdig_selecao_consultasCompras centdig_bordar_bottom\"]')\n",
        "baseSupridora.find_elements_by_xpath('//br')[0].find_elements_by_xpath('//label')[2].find_elements_by_xpath('//input[@name=\"nomeDependencia\"]')[0].find_elements_by_xpath('//option[@value=\"6515\"]')[0].click()  #0=> cliente 1=>ipiranga\n",
        "#wd.save_screenshot('testeInsercaobaseSupridora.png')"
      ],
      "execution_count": null,
      "outputs": []
    },
    {
      "cell_type": "code",
      "metadata": {
        "id": "9bBTCkhhwUk4",
        "colab_type": "code",
        "colab": {}
      },
      "source": [
        "tabela= wd.find_element_by_xpath('//div[@class=\"centdig_tabela_lista_produtos\"]')\n",
        "tabela.find_elements_by_xpath('//tr')[3].find_elements_by_xpath('//input[@name=\"quantidade\"]')[3].send_keys(gc) #GC\n",
        "#wd.save_screenshot('testeInsercaoGC.png')\n"
      ],
      "execution_count": null,
      "outputs": []
    },
    {
      "cell_type": "code",
      "metadata": {
        "id": "lUQB_NfSz_qb",
        "colab_type": "code",
        "colab": {}
      },
      "source": [
        "tabela.find_elements_by_xpath('//tr')[3].find_elements_by_xpath('//input[@name=\"quantidade\"]')[0].send_keys(et) #Et\n",
        "#wd.save_screenshot('testeInsercaoET.png')"
      ],
      "execution_count": null,
      "outputs": []
    },
    {
      "cell_type": "code",
      "metadata": {
        "id": "sK8Af0wPxOLf",
        "colab_type": "code",
        "colab": {}
      },
      "source": [
        "tabela.find_elements_by_xpath('//tr')[3].find_elements_by_xpath('//input[@name=\"quantidade\"]')[2].send_keys(ga) #GA\n",
        "#wd.save_screenshot('testeInsercaoGA.png')"
      ],
      "execution_count": null,
      "outputs": []
    },
    {
      "cell_type": "code",
      "metadata": {
        "id": "KWyCJOoq0QuB",
        "colab_type": "code",
        "colab": {}
      },
      "source": [
        "tabela.find_elements_by_xpath('//tr')[3].find_elements_by_xpath('//input[@name=\"quantidade\"]')[4].send_keys(s10) #S10\n",
        "#wd.save_screenshot('testeInsercaoS10.png')"
      ],
      "execution_count": null,
      "outputs": []
    },
    {
      "cell_type": "code",
      "metadata": {
        "id": "ecIKEh-N0mm7",
        "colab_type": "code",
        "colab": {}
      },
      "source": [
        "tabela.find_elements_by_xpath('//tr')[3].find_elements_by_xpath('//input[@name=\"quantidade\"]')[5].send_keys(s500) #S500\n",
        "#wd.save_screenshot('testeInsercaoS500.png')"
      ],
      "execution_count": null,
      "outputs": []
    },
    {
      "cell_type": "code",
      "metadata": {
        "id": "6-GyaPsL0wTz",
        "colab_type": "code",
        "colab": {
          "base_uri": "https://localhost:8080/",
          "height": 34
        },
        "outputId": "6be3e0b7-c986-4090-8075-9805d5b77358"
      },
      "source": [
        "tabela.find_elements_by_xpath('//tr')[3].find_element_by_xpath('//input[@alt=\"Prosseguir\"]').click() #prosseguir\n",
        "wd.save_screenshot(f'{dia}{mes}{ano}testeInsercaoProsseguir{diaEnt}{mesEnt}{anoEnt}.png')"
      ],
      "execution_count": null,
      "outputs": [
        {
          "output_type": "execute_result",
          "data": {
            "text/plain": [
              "True"
            ]
          },
          "metadata": {
            "tags": []
          },
          "execution_count": 28
        }
      ]
    },
    {
      "cell_type": "code",
      "metadata": {
        "id": "p2eDEkSa1LfQ",
        "colab_type": "code",
        "colab": {}
      },
      "source": [
        "wd.find_element_by_xpath('//input[@alt=\"Finaliza pedido\"]').click()"
      ],
      "execution_count": null,
      "outputs": []
    },
    {
      "cell_type": "code",
      "metadata": {
        "id": "aMcKuyDV7I1z",
        "colab_type": "code",
        "colab": {}
      },
      "source": [
        "wd.save_screenshot(f'teste{dia}{mes}{ano}InsercaoFinalizaPedidodiaEnt{diaEnt}{mesEnt}{anoEnt}.png')"
      ],
      "execution_count": null,
      "outputs": []
    }
  ]
}